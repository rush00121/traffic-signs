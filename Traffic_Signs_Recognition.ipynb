{
 "cells": [
  {
   "cell_type": "markdown",
   "metadata": {},
   "source": [
    "# Self-Driving Car Engineer Nanodegree\n",
    "\n",
    "## Deep Learning\n",
    "\n",
    "## Project: Build a Traffic Sign Recognition Classifier\n",
    "\n",
    "In this notebook, a template is provided for you to implement your functionality in stages which is required to successfully complete this project. If additional code is required that cannot be included in the notebook, be sure that the Python code is successfully imported and included in your submission, if necessary. Sections that begin with **'Implementation'** in the header indicate where you should begin your implementation for your project. Note that some sections of implementation are optional, and will be marked with **'Optional'** in the header.\n",
    "\n",
    "In addition to implementing code, there will be questions that you must answer which relate to the project and your implementation. Each section where you will answer a question is preceded by a **'Question'** header. Carefully read each question and provide thorough answers in the following text boxes that begin with **'Answer:'**. Your project submission will be evaluated based on your answers to each of the questions and the implementation you provide.\n",
    "\n",
    ">**Note:** Code and Markdown cells can be executed using the **Shift + Enter** keyboard shortcut. In addition, Markdown cells can be edited by typically double-clicking the cell to enter edit mode."
   ]
  },
  {
   "cell_type": "markdown",
   "metadata": {},
   "source": [
    "---\n",
    "\n",
    "## Step 1: Dataset Exploration\n",
    "\n",
    "Visualize the German Traffic Signs Dataset. This is open ended, some suggestions include: plotting traffic signs images, plotting the count of each sign, etc. Be creative!\n",
    "\n",
    "\n",
    "The pickled data is a dictionary with 4 key/value pairs:\n",
    "\n",
    "- features -> the images pixel values, (width, height, channels)\n",
    "- labels -> the label of the traffic sign\n",
    "- sizes -> the original width and height of the image, (width, height)\n",
    "- coords -> coordinates of a bounding box around the sign in the image, (x1, y1, x2, y2). Based the original image (not the resized version)."
   ]
  },
  {
   "cell_type": "code",
   "execution_count": 1,
   "metadata": {
    "collapsed": false
   },
   "outputs": [],
   "source": [
    "# Load pickled data\n",
    "import pickle\n",
    "import tensorflow as tf\n",
    "import math\n",
    "from tqdm import tqdm\n",
    "from sklearn.preprocessing import LabelBinarizer\n",
    "import cv2\n",
    "import random\n",
    "from sklearn.model_selection import train_test_split\n",
    "\n",
    "# TODO: fill this in based on where you saved the training and testing data\n",
    "training_file = 'train.p'\n",
    "testing_file = 'test.p'\n",
    "\n",
    "with open(training_file, mode='rb') as f:\n",
    "    train = pickle.load(f)\n",
    "with open(testing_file, mode='rb') as f:\n",
    "    test = pickle.load(f)\n",
    "    \n",
    "X_train, y_train = train['features'], train['labels']\n",
    "X_test, y_test = test['features'], test['labels']"
   ]
  },
  {
   "cell_type": "code",
   "execution_count": 2,
   "metadata": {
    "collapsed": false
   },
   "outputs": [
    {
     "name": "stdout",
     "output_type": "stream",
     "text": [
      "Number of training examples = 39209\n",
      "Number of testing examples = 12630\n",
      "Image data shape = 32x32x3\n",
      "Number of classes = 43\n"
     ]
    }
   ],
   "source": [
    "### To start off let's do a basic data summary.\n",
    "\n",
    "# TODO: number of training examples\n",
    "n_train = X_train.shape[0]\n",
    "\n",
    "# TODO: number of testing examples\n",
    "n_test = X_test.shape[0]\n",
    "\n",
    "# TODO: what's the shape of an image?\n",
    "image_shape = str(X_train.shape[1]) + \"x\" + str(X_train.shape[2]) + \"x\" + str(X_train.shape[3])\n",
    "\n",
    "output = set()\n",
    "for x in y_train:\n",
    "    output.add(x)\n",
    "\n",
    "# TODO: how many classes are in the dataset\n",
    "n_classes = len(output)\n",
    "\n",
    "print(\"Number of training examples =\", n_train)\n",
    "print(\"Number of testing examples =\", n_test)\n",
    "print(\"Image data shape =\", image_shape)\n",
    "print(\"Number of classes =\", n_classes)"
   ]
  },
  {
   "cell_type": "code",
   "execution_count": 3,
   "metadata": {
    "collapsed": false
   },
   "outputs": [
    {
     "data": {
      "image/png": "[encoded data removed]",
      "text/plain": [
       "<matplotlib.figure.Figure at 0x12c833b38>"
      ]
     },
     "metadata": {},
     "output_type": "display_data"
    }
   ],
   "source": [
    "### Data exploration visualization goes here.\n",
    "### Feel free to use as many code cells as needed.import matplotlib.cm as cm\n",
    "import matplotlib.pyplot as plt\n",
    "import numpy as np\n",
    "import csv\n",
    "\n",
    "def findsignnames(filename):\n",
    "    signnames = []\n",
    "    with open(filename, 'rt') as csvfile:\n",
    "        signnamereader = csv.reader(csvfile)\n",
    "        for row in signnamereader:\n",
    "            signnames.append(row[1])\n",
    "    signnames = signnames[1:]\n",
    "    return signnames\n",
    "\n",
    "'''For future use , extracting signnames'''\n",
    "signnames = findsignnames('signnames.csv')\n",
    "\n",
    "def displaysignnames(signnames):\n",
    "    i=0\n",
    "    for signname in signnames:\n",
    "        print(str(i)+\":\"+signname)\n",
    "        i+=1\n",
    "\n",
    "class_set = np.zeros(n_classes)\n",
    "for label in y_train:\n",
    "    class_set[label] = class_set[label]+1\n",
    "\n",
    "\n",
    "ind = np.arange(n_classes)\n",
    "width = 0.2\n",
    "fig, ax = plt.subplots()\n",
    "ax.set_title('Training Set Sample Distribution')\n",
    "rects1 = ax.bar(ind, class_set, width, color='r')\n",
    "\n",
    "plt.show()"
   ]
  },
  {
   "cell_type": "code",
   "execution_count": 4,
   "metadata": {
    "collapsed": false,
    "scrolled": true
   },
   "outputs": [
    {
     "name": "stdout",
     "output_type": "stream",
     "text": [
      "0:Speed limit (20km/h)\n",
      "1:Speed limit (30km/h)\n",
      "2:Speed limit (50km/h)\n",
      "3:Speed limit (60km/h)\n",
      "4:Speed limit (70km/h)\n",
      "5:Speed limit (80km/h)\n",
      "6:End of speed limit (80km/h)\n",
      "7:Speed limit (100km/h)\n",
      "8:Speed limit (120km/h)\n",
      "9:No passing\n",
      "10:No passing for vechiles over 3.5 metric tons\n",
      "11:Right-of-way at the next intersection\n",
      "12:Priority road\n",
      "13:Yield\n",
      "14:Stop\n",
      "15:No vechiles\n",
      "16:Vechiles over 3.5 metric tons prohibited\n",
      "17:No entry\n",
      "18:General caution\n",
      "19:Dangerous curve to the left\n",
      "20:Dangerous curve to the right\n",
      "21:Double curve\n",
      "22:Bumpy road\n",
      "23:Slippery road\n",
      "24:Road narrows on the right\n",
      "25:Road work\n",
      "26:Traffic signals\n",
      "27:Pedestrians\n",
      "28:Children crossing\n",
      "29:Bicycles crossing\n",
      "30:Beware of ice/snow\n",
      "31:Wild animals crossing\n",
      "32:End of all speed and passing limits\n",
      "33:Turn right ahead\n",
      "34:Turn left ahead\n",
      "35:Ahead only\n",
      "36:Go straight or right\n",
      "37:Go straight or left\n",
      "38:Keep right\n",
      "39:Keep left\n",
      "40:Roundabout mandatory\n",
      "41:End of no passing\n",
      "42:End of no passing by vechiles over 3.5 metric tons\n"
     ]
    }
   ],
   "source": [
    "displaysignnames(signnames)"
   ]
  },
  {
   "cell_type": "markdown",
   "metadata": {},
   "source": [
    "----\n",
    "\n",
    "## Step 2: Design and Test a Model Architecture\n",
    "\n",
    "Design and implement a deep learning model that learns to recognize traffic signs. Train and test your model on the [German Traffic Sign Dataset](http://benchmark.ini.rub.de/?section=gtsrb&subsection=dataset).\n",
    "\n",
    "There are various aspects to consider when thinking about this problem:\n",
    "\n",
    "- Your model can be derived from a deep feedforward net or a deep convolutional network.\n",
    "- Play around preprocessing techniques (normalization, rgb to grayscale, etc)\n",
    "- Number of examples per label (some have more than others).\n",
    "- Generate fake data.\n",
    "\n",
    "Here is an example of a [published baseline model on this problem](http://yann.lecun.com/exdb/publis/pdf/sermanet-ijcnn-11.pdf). It's not required to be familiar with the approach used in the paper but, it's good practice to try to read papers like these."
   ]
  },
  {
   "cell_type": "markdown",
   "metadata": {},
   "source": [
    "### Implementation\n",
    "\n",
    "Use the code cell (or multiple code cells, if necessary) to implement the first step of your project. Once you have completed your implementation and are satisfied with the results, be sure to thoroughly answer the questions that follow."
   ]
  },
  {
   "cell_type": "code",
   "execution_count": 5,
   "metadata": {
    "collapsed": false
   },
   "outputs": [
    {
     "name": "stdout",
     "output_type": "stream",
     "text": [
      "Sample Image\n"
     ]
    },
    {
     "data": {
      "image/png": "[encoded data removed]",
      "text/plain": [
       "<matplotlib.figure.Figure at 0x12bb2e5c0>"
      ]
     },
     "metadata": {},
     "output_type": "display_data"
    },
    {
     "name": "stdout",
     "output_type": "stream",
     "text": [
      "Before normalization\n",
      "[[[ 75  78  80]\n",
      "  [ 74  76  78]\n",
      "  [ 83  84  83]\n",
      "  ..., \n",
      "  [ 67  74  73]\n",
      "  [ 65  69  68]\n",
      "  [ 66  67  66]]\n",
      "\n",
      " [[ 82  83  85]\n",
      "  [ 80  80  82]\n",
      "  [ 87  86  83]\n",
      "  ..., \n",
      "  [ 73  77  77]\n",
      "  [ 75  77  75]\n",
      "  [ 79  79  77]]\n",
      "\n",
      " [[ 79  79  81]\n",
      "  [ 84  83  85]\n",
      "  [ 91  88  89]\n",
      "  ..., \n",
      "  [ 72  74  72]\n",
      "  [ 74  75  71]\n",
      "  [ 78  78  74]]\n",
      "\n",
      " ..., \n",
      " [[126 128 133]\n",
      "  [118 123 128]\n",
      "  [108 117 120]\n",
      "  ..., \n",
      "  [ 96  96  90]\n",
      "  [ 99 101  94]\n",
      "  [ 99 103  99]]\n",
      "\n",
      " [[ 90  94  98]\n",
      "  [ 91  97 103]\n",
      "  [ 77  87  92]\n",
      "  ..., \n",
      "  [104 104  97]\n",
      "  [107 111 102]\n",
      "  [ 95 103  97]]\n",
      "\n",
      " [[ 85  84  87]\n",
      "  [ 93  99 104]\n",
      "  [ 69  80  85]\n",
      "  ..., \n",
      "  [101 102  94]\n",
      "  [ 98 101  90]\n",
      "  [ 90  97  89]]]\n",
      "After normalization\n",
      "[[[ 0.29411765  0.30588235  0.31372549]\n",
      "  [ 0.29019608  0.29803922  0.30588235]\n",
      "  [ 0.3254902   0.32941176  0.3254902 ]\n",
      "  ..., \n",
      "  [ 0.2627451   0.29019608  0.28627451]\n",
      "  [ 0.25490196  0.27058824  0.26666667]\n",
      "  [ 0.25882353  0.2627451   0.25882353]]\n",
      "\n",
      " [[ 0.32156863  0.3254902   0.33333333]\n",
      "  [ 0.31372549  0.31372549  0.32156863]\n",
      "  [ 0.34117647  0.3372549   0.3254902 ]\n",
      "  ..., \n",
      "  [ 0.28627451  0.30196078  0.30196078]\n",
      "  [ 0.29411765  0.30196078  0.29411765]\n",
      "  [ 0.30980392  0.30980392  0.30196078]]\n",
      "\n",
      " [[ 0.30980392  0.30980392  0.31764706]\n",
      "  [ 0.32941176  0.3254902   0.33333333]\n",
      "  [ 0.35686275  0.34509804  0.34901961]\n",
      "  ..., \n",
      "  [ 0.28235294  0.29019608  0.28235294]\n",
      "  [ 0.29019608  0.29411765  0.27843137]\n",
      "  [ 0.30588235  0.30588235  0.29019608]]\n",
      "\n",
      " ..., \n",
      " [[ 0.49411765  0.50196078  0.52156863]\n",
      "  [ 0.4627451   0.48235294  0.50196078]\n",
      "  [ 0.42352941  0.45882353  0.47058824]\n",
      "  ..., \n",
      "  [ 0.37647059  0.37647059  0.35294118]\n",
      "  [ 0.38823529  0.39607843  0.36862745]\n",
      "  [ 0.38823529  0.40392157  0.38823529]]\n",
      "\n",
      " [[ 0.35294118  0.36862745  0.38431373]\n",
      "  [ 0.35686275  0.38039216  0.40392157]\n",
      "  [ 0.30196078  0.34117647  0.36078431]\n",
      "  ..., \n",
      "  [ 0.40784314  0.40784314  0.38039216]\n",
      "  [ 0.41960784  0.43529412  0.4       ]\n",
      "  [ 0.37254902  0.40392157  0.38039216]]\n",
      "\n",
      " [[ 0.33333333  0.32941176  0.34117647]\n",
      "  [ 0.36470588  0.38823529  0.40784314]\n",
      "  [ 0.27058824  0.31372549  0.33333333]\n",
      "  ..., \n",
      "  [ 0.39607843  0.4         0.36862745]\n",
      "  [ 0.38431373  0.39607843  0.35294118]\n",
      "  [ 0.35294118  0.38039216  0.34901961]]]\n"
     ]
    }
   ],
   "source": [
    "### Preprocess the data here.\n",
    "### Feel free to use as many code cells as needed.\n",
    "\n",
    "training_file = \"train.p\"\n",
    "testing_file = \"test.p\"\n",
    "\n",
    "with open(training_file, mode='rb') as f:\n",
    "    train = pickle.load(f)\n",
    "with open(testing_file, mode='rb') as f:\n",
    "    test = pickle.load(f)\n",
    "    \n",
    "X_train, y_train = train['features'], train['labels']\n",
    "X_test, y_test = test['features'], test['labels']\n",
    "\n",
    "encoder = LabelBinarizer()\n",
    "encoder.fit(y_train)\n",
    "y_train = encoder.transform(y_train)\n",
    "y_test = encoder.transform(y_test)\n",
    "\n",
    "# Change to float32, so it can be multiplied against the features in TensorFlow, which are float32\n",
    "y_train = y_train.astype(np.float32)\n",
    "y_test = y_test.astype(np.float32)\n",
    "\n",
    "print(\"Sample Image\")\n",
    "plt.imshow(X_train[0])\n",
    "plt.show()\n",
    "\n",
    "print(\"Before normalization\")\n",
    "print(X_train[0])\n",
    "\n",
    "###Divide the image by 255 to normalize it between 0 and 1 \n",
    "\n",
    "X_train = X_train/255.\n",
    "X_test =  X_test/255.\n",
    "\n",
    "print(\"After normalization\")\n",
    "print(X_train[0])"
   ]
  },
  {
   "cell_type": "markdown",
   "metadata": {},
   "source": [
    "### Question 1 \n",
    "\n",
    "_Describe the techniques used to preprocess the data._"
   ]
  },
  {
   "cell_type": "markdown",
   "metadata": {},
   "source": [
    "**Answer:**"
   ]
  },
  {
   "cell_type": "code",
   "execution_count": 6,
   "metadata": {
    "collapsed": false
   },
   "outputs": [
    {
     "name": "stdout",
     "output_type": "stream",
     "text": [
      "911\n"
     ]
    }
   ],
   "source": [
    "### Generate data additional (if you want to!)\n",
    "### and split the data into training/validation/testing sets here.\n",
    "### Feel free to use as many code cells as needed.\n",
    "\n",
    "y_train_original = train['labels']\n",
    "x_train_original = train['features']\n",
    "\n",
    "def generate_y_data_map(y_train_original):\n",
    "    i=0\n",
    "    y_map = {}\n",
    "    for y_data in y_train_original:\n",
    "        if y_map.get(y_data)==None:\n",
    "            y_map[y_data]={i}\n",
    "        else:\n",
    "            y_map[y_data].add(i)\n",
    "        i+=1\n",
    "    return y_map\n",
    "\n",
    "y_map = generate_y_data_map(y_train_original)\n",
    "\n",
    "mean = int(len(y_train_original)/43)\n",
    "print(mean)\n",
    "\n",
    "\n",
    "#Using this function from Udacity forum @ \n",
    "#https://carnd-udacity.atlassian.net/wiki/questions/10322627/project-2-unbalanced-data-generating-additional-data-by-jittering-the-original-image\n",
    "def transform_image(img,ang_range,shear_range,trans_range):\n",
    "    '''\n",
    "    This function transforms images to generate new images.\n",
    "    The function takes in following arguments,\n",
    "    1- Image\n",
    "    2- ang_range: Range of angles for rotation\n",
    "    3- shear_range: Range of values to apply affine transform to\n",
    "    4- trans_range: Range of values to apply translations over. \n",
    "    \n",
    "    A Random uniform distribution is used to generate different parameters for transformation\n",
    "    \n",
    "    '''\n",
    "    # Rotation\n",
    "\n",
    "    ang_rot = np.random.uniform(ang_range)-ang_range/2\n",
    "    rows,cols,ch = img.shape    \n",
    "    Rot_M = cv2.getRotationMatrix2D((cols/2,rows/2),ang_rot,1)\n",
    "\n",
    "    # Translation\n",
    "    tr_x = trans_range*np.random.uniform()-trans_range/2\n",
    "    tr_y = trans_range*np.random.uniform()-trans_range/2\n",
    "    Trans_M = np.float32([[1,0,tr_x],[0,1,tr_y]])\n",
    "\n",
    "    # Shear\n",
    "    pts1 = np.float32([[5,5],[20,5],[5,20]])\n",
    "\n",
    "    pt1 = 5+shear_range*np.random.uniform()-shear_range/2\n",
    "    pt2 = 20+shear_range*np.random.uniform()-shear_range/2\n",
    "\n",
    "    pts2 = np.float32([[pt1,5],[pt2,pt1],[5,pt2]])\n",
    "\n",
    "    shear_M = cv2.getAffineTransform(pts1,pts2)\n",
    "        \n",
    "    img = cv2.warpAffine(img,Rot_M,(cols,rows))\n",
    "    img = cv2.warpAffine(img,Trans_M,(cols,rows))\n",
    "    img = cv2.warpAffine(img,shear_M,(cols,rows))\n",
    "    \n",
    "    return img\n",
    "\n",
    "#x_train_array = np.array(x_train_original).tolist()\n",
    "\n",
    "#print(len(x_train_array))\n",
    "#transformed_img = transform_image(X_train[0],10,10,1)\n",
    "#x_train_original = np.append(x_train_original,transformed_img)\n",
    "\n",
    "\n",
    "X_train, X_valid, y_train, y_valid = train_test_split(\n",
    "    X_train,\n",
    "    y_train,\n",
    "    test_size=0.05,\n",
    "    random_state=832289)"
   ]
  },
  {
   "cell_type": "markdown",
   "metadata": {},
   "source": [
    "### Question 2\n",
    "\n",
    "_Describe how you set up the training, validation and testing data for your model. If you generated additional data, why?_"
   ]
  },
  {
   "cell_type": "markdown",
   "metadata": {},
   "source": [
    "**Answer:**"
   ]
  },
  {
   "cell_type": "code",
   "execution_count": 71,
   "metadata": {
    "collapsed": true
   },
   "outputs": [],
   "source": [
    "### Define your architecture here.\n",
    "### Feel free to use as many code cells as needed."
   ]
  },
  {
   "cell_type": "markdown",
   "metadata": {},
   "source": [
    "### Question 3\n",
    "\n",
    "_What does your final architecture look like? (Type of model, layers, sizes, connectivity, etc.)  For reference on how to build a deep neural network using TensorFlow, see [Deep Neural Network in TensorFlow\n",
    "](https://classroom.udacity.com/nanodegrees/nd013/parts/fbf77062-5703-404e-b60c-95b78b2f3f9e/modules/6df7ae49-c61c-4bb2-a23e-6527e69209ec/lessons/b516a270-8600-4f93-a0a3-20dfeabe5da6/concepts/83a3a2a2-a9bd-4b7b-95b0-eb924ab14432) from the classroom._\n"
   ]
  },
  {
   "cell_type": "markdown",
   "metadata": {},
   "source": [
    "**Answer:**"
   ]
  },
  {
   "cell_type": "code",
   "execution_count": 8,
   "metadata": {
    "collapsed": true
   },
   "outputs": [],
   "source": [
    "### Train your model here.\n",
    "### Feel free to use as many code cells as needed.\n",
    "\n",
    "\n",
    "\n",
    "def weight_variable(shape):\n",
    "  initial = tf.truncated_normal(shape, stddev=0.1)\n",
    "  return tf.Variable(initial)\n",
    "\n",
    "def bias_variable(shape):\n",
    "  initial = tf.constant(0.1, shape=shape)\n",
    "  return tf.Variable(initial)\n",
    "\n",
    "def conv2d(x, W):\n",
    "    #layer = tf.nn.conv2d(x, W, strides=[1, 1, 1, 1], padding='SAME')\n",
    "    #layer = tf.nn.relu(layer, name=None)\n",
    "    return tf.nn.conv2d(x, W, strides=[1, 1, 1, 1], padding='SAME')\n",
    "\n",
    "def max_pool_2x2(x):\n",
    "  return tf.nn.max_pool(x, ksize=[1, 2, 2, 1],\n",
    "                        strides=[1, 2, 2, 1], padding='SAME')\n",
    "\n",
    "\n",
    "learning_rate = 1e-6\n",
    "training_epochs = 10\n",
    "batch_size = 100\n",
    "display_step = 10\n",
    "\n",
    "n_input = 3072  #  data input (img shape: 32*32*3)\n",
    "n_classes = 43  # total classes (43)\n",
    "\n",
    "# input data is of type 32*32*3\n",
    "x = tf.placeholder(\"float\", [None, 32, 32, 3])\n",
    "\n",
    "#x_flat = tf.reshape(x, [-1, 32,32,3])\n",
    "\n",
    "### Layer 1 ###\n",
    "\n",
    "W_conv1 = weight_variable([5, 5, 3, 32])\n",
    "b_conv1 = bias_variable([32])\n",
    "\n",
    "h_conv1 = tf.nn.relu(conv2d(x, W_conv1) + b_conv1)\n",
    "h_pool1 = max_pool_2x2(h_conv1)\n",
    "\n",
    "### Layer 2 ###\n",
    "W_conv2 = weight_variable([5, 5, 32, 64])\n",
    "b_conv2 = bias_variable([64])\n",
    "h_conv2 = tf.nn.relu(conv2d(h_pool1, W_conv2) + b_conv2)\n",
    "h_pool2 = max_pool_2x2(h_conv2)\n",
    "\n",
    "###Fully connected Layer 3 ###\n",
    "\n",
    "W_fc1 = weight_variable([8 * 8 * 64, 1024])\n",
    "b_fc1 = bias_variable([1024])\n",
    "\n",
    "h_pool2_flat = tf.reshape(h_pool2, [-1, 8*8*64])\n",
    "h_fc1 = tf.nn.relu(tf.matmul(h_pool2_flat, W_fc1) + b_fc1)\n",
    "\n",
    "##Drop out layer###\n",
    "\n",
    "keep_prob = tf.placeholder(tf.float32)\n",
    "h_fc1_drop = tf.nn.dropout(h_fc1, keep_prob)\n",
    "\n",
    "W_fc2 = weight_variable([1024, 43])\n",
    "b_fc2 = bias_variable([43])\n",
    "\n",
    "### Classifier ###\n",
    "y_conv=tf.nn.softmax(tf.matmul(h_fc1_drop, W_fc2) + b_fc2)\n",
    "\n",
    "y_ = tf.placeholder(tf.float32, shape=[None, n_classes])\n",
    "\n",
    "\n",
    "learning_rate = 1e-6\n",
    "\n",
    "cross_entropy = tf.reduce_mean(-tf.reduce_sum(y_ * tf.log(tf.clip_by_value(y_conv,1e-10,1.0)), \n",
    "                                              reduction_indices=[1]))\n",
    "train_step = tf.train.AdamOptimizer(learning_rate = 1e-4).minimize(cross_entropy)\n",
    "correct_prediction = tf.equal(tf.argmax(y_conv,1), tf.argmax(y_,1))\n",
    "accuracy = tf.reduce_mean(tf.cast(correct_prediction, tf.float32))\n",
    "\n",
    "\n",
    "\n",
    "####Training data, validation data and test data \n",
    "###keeping drop rate of 0.5 for training data, 1.0 for validation and test\n",
    "\n",
    "train_feed_dict = {x: X_train, y_: y_train, keep_prob: 0.5}\n",
    "valid_feed_dict = {x: X_valid, y_: y_valid, keep_prob: 1.0}\n",
    "test_feed_dict = {x: X_test, y_: y_test, keep_prob: 1.0}\n",
    "saver = tf.train.Saver()\n"
   ]
  },
  {
   "cell_type": "code",
   "execution_count": 17,
   "metadata": {
    "collapsed": false
   },
   "outputs": [
    {
     "name": "stdout",
     "output_type": "stream",
     "text": [
      "Epoch 0, training accuracy 0.285569, batch accuracy 0.19 \n",
      "test accuracy 0.275455\n",
      "Model saved in file: model.ckpt\n",
      "test accuracy 0.387094\n"
     ]
    }
   ],
   "source": [
    "with tf.Session() as session:\n",
    "    session.run(tf.initialize_all_variables())\n",
    "\n",
    "    batch_count = int(math.ceil(len(X_train)/batch_size))\n",
    "    \n",
    "    for epoch_i in range(2):\n",
    "        #batches_pbar = tqdm(range(batch_count), desc='Epoch {:>2}/{}'.format(epoch_i+1, training_epochs), unit='batches')\n",
    "        #for batch_i in batches_pbar:\n",
    "        # Get a batch of training features and labels\n",
    "        for batch_i in range(100):\n",
    "            batch_start = batch_i*batch_size\n",
    "            batch_features = X_train[batch_start:batch_start + batch_size]\n",
    "            batch_labels = y_train[batch_start:batch_start + batch_size]\n",
    "            train_step.run(feed_dict={x: batch_features, y_: batch_labels, keep_prob: 0.5})\n",
    "\n",
    "        if epoch_i % 10 == 0:\n",
    "            train_accuracy = accuracy.eval(feed_dict=valid_feed_dict)\n",
    "            batch_accuracy = accuracy.eval(feed_dict={x: batch_features, \n",
    "                                                          y_: batch_labels, \n",
    "                                                          keep_prob: 0.5})\n",
    "            print(\"Epoch %d, training accuracy %g, batch accuracy %g \"%(epoch_i, train_accuracy,batch_accuracy))\n",
    "                \n",
    "            print(\"test accuracy %g\"%accuracy.eval(feed_dict=test_feed_dict))\n",
    "        save_path = saver.save(session, \"model.ckpt\")\n",
    "    \n",
    "    print(\"Model saved in file: %s\" % save_path)\n",
    "    print(\"test accuracy %g\"%accuracy.eval(feed_dict=test_feed_dict))\n"
   ]
  },
  {
   "cell_type": "markdown",
   "metadata": {},
   "source": [
    "### Question 4\n",
    "\n",
    "_How did you train your model? (Type of optimizer, batch size, epochs, hyperparameters, etc.)_\n"
   ]
  },
  {
   "cell_type": "code",
   "execution_count": 18,
   "metadata": {
    "collapsed": false
   },
   "outputs": [
    {
     "name": "stdout",
     "output_type": "stream",
     "text": [
      "Model restored.\n",
      "test accuracy 0.387094\n"
     ]
    }
   ],
   "source": [
    "# Add ops to save and restore all the variables.\n",
    "saver = tf.train.Saver()\n",
    "\n",
    "# Later, launch the model, use the saver to restore variables from disk, and\n",
    "# do some work with the model.\n",
    "with tf.Session() as sess:\n",
    "    # Restore variables from disk.\n",
    "    saver.restore(sess, \"model.ckpt\")\n",
    "    print(\"Model restored.\")\n",
    "    print(\"test accuracy %g\"%accuracy.eval(feed_dict=test_feed_dict))    "
   ]
  },
  {
   "cell_type": "markdown",
   "metadata": {},
   "source": [
    "**Answer:**"
   ]
  },
  {
   "cell_type": "markdown",
   "metadata": {},
   "source": [
    "### Question 5\n",
    "\n",
    "\n",
    "_What approach did you take in coming up with a solution to this problem?_"
   ]
  },
  {
   "cell_type": "markdown",
   "metadata": {},
   "source": [
    "**Answer:**"
   ]
  },
  {
   "cell_type": "markdown",
   "metadata": {},
   "source": [
    "---\n",
    "\n",
    "## Step 3: Test a Model on New Images\n",
    "\n",
    "Take several pictures of traffic signs that you find on the web or around you (at least five), and run them through your classifier on your computer to produce example results. The classifier might not recognize some local signs but it could prove interesting nonetheless.\n",
    "\n",
    "You may find `signnames.csv` useful as it contains mappings from the class id (integer) to the actual sign name."
   ]
  },
  {
   "cell_type": "markdown",
   "metadata": {},
   "source": [
    "### Implementation\n",
    "\n",
    "Use the code cell (or multiple code cells, if necessary) to implement the first step of your project. Once you have completed your implementation and are satisfied with the results, be sure to thoroughly answer the questions that follow."
   ]
  },
  {
   "cell_type": "code",
   "execution_count": 3,
   "metadata": {
    "collapsed": true
   },
   "outputs": [],
   "source": [
    "### Load the images and plot them here.\n",
    "### Feel free to use as many code cells as needed."
   ]
  },
  {
   "cell_type": "markdown",
   "metadata": {},
   "source": [
    "### Question 6\n",
    "\n",
    "_Choose five candidate images of traffic signs and provide them in the report. Are there any particular qualities of the image(s) that might make classification difficult? It would be helpful to plot the images in the notebook._\n",
    "\n"
   ]
  },
  {
   "cell_type": "markdown",
   "metadata": {},
   "source": [
    "**Answer:**"
   ]
  },
  {
   "cell_type": "code",
   "execution_count": 4,
   "metadata": {
    "collapsed": true
   },
   "outputs": [],
   "source": [
    "### Run the predictions here.\n",
    "### Feel free to use as many code cells as needed."
   ]
  },
  {
   "cell_type": "markdown",
   "metadata": {},
   "source": [
    "### Question 7\n",
    "\n",
    "_Is your model able to perform equally well on captured pictures or a live camera stream when compared to testing on the dataset?_\n"
   ]
  },
  {
   "cell_type": "markdown",
   "metadata": {},
   "source": [
    "**Answer:**"
   ]
  },
  {
   "cell_type": "code",
   "execution_count": null,
   "metadata": {
    "collapsed": true
   },
   "outputs": [],
   "source": [
    "### Visualize the softmax probabilities here.\n",
    "### Feel free to use as many code cells as needed."
   ]
  },
  {
   "cell_type": "markdown",
   "metadata": {},
   "source": [
    "### Question 8\n",
    "\n",
    "*Use the model's softmax probabilities to visualize the **certainty** of its predictions, [`tf.nn.top_k`](https://www.tensorflow.org/versions/r0.11/api_docs/python/nn.html#top_k) could prove helpful here. Which predictions is the model certain of? Uncertain? If the model was incorrect in its initial prediction, does the correct prediction appear in the top k? (k should be 5 at most)*\n"
   ]
  },
  {
   "cell_type": "markdown",
   "metadata": {},
   "source": [
    "**Answer:**"
   ]
  },
  {
   "cell_type": "markdown",
   "metadata": {},
   "source": [
    "### Question 9\n",
    "_If necessary, provide documentation for how an interface was built for your model to load and classify newly-acquired images._\n"
   ]
  },
  {
   "cell_type": "markdown",
   "metadata": {},
   "source": [
    "**Answer:**"
   ]
  },
  {
   "cell_type": "markdown",
   "metadata": {},
   "source": [
    "> **Note**: Once you have completed all of the code implementations and successfully answered each question above, you may finalize your work by exporting the iPython Notebook as an HTML document. You can do this by using the menu above and navigating to  \\n\",\n",
    "    \"**File -> Download as -> HTML (.html)**. Include the finished document along with this notebook as your submission."
   ]
  },
  {
   "cell_type": "code",
   "execution_count": null,
   "metadata": {
    "collapsed": true
   },
   "outputs": [],
   "source": []
  }
 ],
 "metadata": {
  "anaconda-cloud": {},
  "kernelspec": {
   "display_name": "Python [default]",
   "language": "python",
   "name": "python3"
  },
  "language_info": {
   "codemirror_mode": {
    "name": "ipython",
    "version": 3
   },
   "file_extension": ".py",
   "mimetype": "text/x-python",
   "name": "python",
   "nbconvert_exporter": "python",
   "pygments_lexer": "ipython3",
   "version": "3.5.2"
  }
 },
 "nbformat": 4,
 "nbformat_minor": 0
}
